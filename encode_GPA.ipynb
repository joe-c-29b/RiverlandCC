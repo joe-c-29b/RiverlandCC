{
 "cells": [
  {
   "cell_type": "markdown",
   "metadata": {},
   "source": [
    "A function for converting standard letter grades to GPA points for analysis"
   ]
  },
  {
   "cell_type": "code",
   "execution_count": null,
   "metadata": {},
   "outputs": [],
   "source": [
    "import pandas as pd\n",
    "import numpy as np"
   ]
  },
  {
   "cell_type": "code",
   "execution_count": null,
   "metadata": {},
   "outputs": [],
   "source": [
    "def encode_GPA(df):\n",
    "    for row in df.index:\n",
    "        if df.loc[row,'GRADE'] == 'A':\n",
    "            df.loc[row,'GRADE2'] = 4.0\n",
    "        elif df.loc[row,'GRADE'] == 'B':\n",
    "            df.loc[row,'GRADE2'] = 3.0\n",
    "        elif df.loc[row,'GRADE'] == 'C':\n",
    "            df.loc[row,'GRADE2'] = 2.0\n",
    "        elif df.loc[row,'GRADE'] == 'W':\n",
    "            df.loc[row,'GRADE2'] = 0.0\n",
    "        elif df.loc[row,'GRADE'] == 'F':\n",
    "            df.loc[row,'GRADE2'] = 0.0\n",
    "        elif df.loc[row,'GRADE'] == 'D':\n",
    "            df.loc[row,'GRADE2'] = 1.0\n",
    "        elif df.loc[row,'GRADE'] == 'FW':\n",
    "            df.loc[row,'GRADE2'] = 0.0\n",
    "        elif df.loc[row,'GRADE'] == 'P':\n",
    "            df.loc[row,'GRADE2'] = 4.0\n",
    "        elif df.loc[row,'GRADE'] == 'I':\n",
    "            df.loc[row,'GRADE2'] = 0.0\n",
    "        elif df.loc[row,'GRADE'] == 'NC':\n",
    "            df.loc[row,'GRADE2'] = 0.0\n",
    "    return df"
   ]
  }
 ],
 "metadata": {
  "language_info": {
   "name": "python"
  }
 },
 "nbformat": 4,
 "nbformat_minor": 2
}
