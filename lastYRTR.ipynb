{
 "cells": [
  {
   "cell_type": "markdown",
   "metadata": {},
   "source": [
    "Function for converting \"end_dates\" to YRTRs so that they are actually usable"
   ]
  },
  {
   "cell_type": "code",
   "execution_count": 1,
   "metadata": {},
   "outputs": [],
   "source": [
    "import pandas as pd\n",
    "import numpy as np"
   ]
  },
  {
   "cell_type": "code",
   "execution_count": null,
   "metadata": {},
   "outputs": [],
   "source": [
    "df = pd.read_csv(\"cohorts.csv\")\n",
    "df"
   ]
  },
  {
   "cell_type": "code",
   "execution_count": 24,
   "metadata": {},
   "outputs": [],
   "source": [
    "def lastYRTR (df, yrtr):\n",
    "    df1 = df.copy()\n",
    "    df1['lastYRTR'] = 0\n",
    "    for i in df1.index:\n",
    "        ly = df1.loc[i, 'endYear']\n",
    "        lm = df1.loc[i, 'endMonth']\n",
    "        \n",
    "        if ly == 9999:\n",
    "            df1.loc[i,'YRTR'] = f'{yrtr}'\n",
    "        elif lm in [9,10,11,12]:\n",
    "            df1.loc[i,'YRTR'] = f'{ly+1}3'\n",
    "        elif lm in [1,2,3,4,5]:\n",
    "            df1.loc[i,'YRTR'] = f'{ly}5'\n",
    "        elif lm in [6,7,8]:\n",
    "            df1.loc[i,'YRTR'] = f'{ly+1}1'\n",
    "    return df1    "
   ]
  },
  {
   "cell_type": "code",
   "execution_count": null,
   "metadata": {},
   "outputs": [],
   "source": [
    "df_new = lastYRTR(df, 20243)\n",
    "df_new.to_csv(\"output_lastYRTR.csv\", index=False)"
   ]
  }
 ],
 "metadata": {
  "kernelspec": {
   "display_name": "Python 3",
   "language": "python",
   "name": "python3"
  },
  "language_info": {
   "codemirror_mode": {
    "name": "ipython",
    "version": 3
   },
   "file_extension": ".py",
   "mimetype": "text/x-python",
   "name": "python",
   "nbconvert_exporter": "python",
   "pygments_lexer": "ipython3",
   "version": "3.11.7"
  }
 },
 "nbformat": 4,
 "nbformat_minor": 2
}
